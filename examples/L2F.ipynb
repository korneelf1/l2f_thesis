{
 "cells": [
  {
   "cell_type": "code",
   "execution_count": null,
   "metadata": {
    "colab": {
     "base_uri": "https://localhost:8080/"
    },
    "id": "RbOVOtRyp1pw",
    "outputId": "2635b10b-d070-4dbf-aa1b-ba79e6159a33"
   },
   "outputs": [],
   "source": [
    "!pip install l2f stable_baselines3"
   ]
  },
  {
   "cell_type": "code",
   "execution_count": null,
   "metadata": {
    "colab": {
     "base_uri": "https://localhost:8080/"
    },
    "id": "UzKmTdl4p06H",
    "outputId": "eedb374d-519d-4615-e62b-3358fd8edef0"
   },
   "outputs": [],
   "source": [
    "from l2f.wrappers.sb3 import L2F\n",
    "from stable_baselines3 import SAC\n",
    "from stable_baselines3.common.vec_env import VecMonitor\n",
    "import torch\n",
    "\n",
    "vec_env = L2F()\n",
    "vec_env = VecMonitor(vec_env)\n",
    "\n",
    "policy_kwargs = dict(\n",
    "    activation_fn=torch.nn.ReLU,\n",
    "    net_arch=dict(pi=[32, 32], vf=[32, 32], qf=[32, 32]),\n",
    ")\n",
    "\n",
    "N = 400000\n",
    "model = SAC(\"MlpPolicy\", vec_env, buffer_size=N, verbose=1)\n",
    "model.learn(total_timesteps=N)"
   ]
  }
 ],
 "metadata": {
  "colab": {
   "provenance": []
  },
  "kernelspec": {
   "display_name": "Python 3",
   "name": "python3"
  },
  "language_info": {
   "name": "python"
  }
 },
 "nbformat": 4,
 "nbformat_minor": 0
}
